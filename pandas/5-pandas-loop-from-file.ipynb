{
 "cells": [
  {
   "cell_type": "code",
   "execution_count": 4,
   "id": "initial_id",
   "metadata": {
    "collapsed": true,
    "ExecuteTime": {
     "end_time": "2024-03-19T09:30:20.947714Z",
     "start_time": "2024-03-19T09:30:20.944040Z"
    }
   },
   "outputs": [],
   "source": [
    "import pandas as pd\n",
    "import pandas_datareader.data as pdr\n",
    "import yfinance as yf\n",
    "yf.pdr_override()"
   ]
  },
  {
   "cell_type": "code",
   "outputs": [
    {
     "data": {
      "text/plain": "  Ticker\n0   AAPL\n1   GOOG\n2   MSFT\n3   TSLA\n4   NVDA\n5   NFLX\n6   META",
      "text/html": "<div>\n<style scoped>\n    .dataframe tbody tr th:only-of-type {\n        vertical-align: middle;\n    }\n\n    .dataframe tbody tr th {\n        vertical-align: top;\n    }\n\n    .dataframe thead th {\n        text-align: right;\n    }\n</style>\n<table border=\"1\" class=\"dataframe\">\n  <thead>\n    <tr style=\"text-align: right;\">\n      <th></th>\n      <th>Ticker</th>\n    </tr>\n  </thead>\n  <tbody>\n    <tr>\n      <th>0</th>\n      <td>AAPL</td>\n    </tr>\n    <tr>\n      <th>1</th>\n      <td>GOOG</td>\n    </tr>\n    <tr>\n      <th>2</th>\n      <td>MSFT</td>\n    </tr>\n    <tr>\n      <th>3</th>\n      <td>TSLA</td>\n    </tr>\n    <tr>\n      <th>4</th>\n      <td>NVDA</td>\n    </tr>\n    <tr>\n      <th>5</th>\n      <td>NFLX</td>\n    </tr>\n    <tr>\n      <th>6</th>\n      <td>META</td>\n    </tr>\n  </tbody>\n</table>\n</div>"
     },
     "execution_count": 5,
     "metadata": {},
     "output_type": "execute_result"
    }
   ],
   "source": [
    "df_ticker = pd.read_csv(\"../data/Ticker.csv\")\n",
    "df_ticker"
   ],
   "metadata": {
    "collapsed": false,
    "ExecuteTime": {
     "end_time": "2024-03-19T09:30:20.956356Z",
     "start_time": "2024-03-19T09:30:20.948221Z"
    }
   },
   "id": "d6bd4a8c1ce656c7",
   "execution_count": 5
  },
  {
   "cell_type": "code",
   "outputs": [
    {
     "data": {
      "text/plain": "['AAPL', 'GOOG', 'MSFT', 'TSLA', 'NVDA', 'NFLX', 'META']"
     },
     "execution_count": 6,
     "metadata": {},
     "output_type": "execute_result"
    }
   ],
   "source": [
    "tickers = df_ticker['Ticker'].tolist()\n",
    "tickers"
   ],
   "metadata": {
    "collapsed": false,
    "ExecuteTime": {
     "end_time": "2024-03-19T09:30:20.960266Z",
     "start_time": "2024-03-19T09:30:20.956356Z"
    }
   },
   "id": "7dcb6859f19e3f06",
   "execution_count": 6
  },
  {
   "cell_type": "code",
   "outputs": [
    {
     "name": "stderr",
     "output_type": "stream",
     "text": [
      "[*********************100%%**********************]  1 of 1 completed\n",
      "[*********************100%%**********************]  1 of 1 completed\n",
      "[*********************100%%**********************]  1 of 1 completed\n",
      "[*********************100%%**********************]  1 of 1 completed\n",
      "[*********************100%%**********************]  1 of 1 completed\n",
      "[*********************100%%**********************]  1 of 1 completed\n",
      "[*********************100%%**********************]  1 of 1 completed\n"
     ]
    },
    {
     "data": {
      "text/plain": "    Ticker       Date       Close\n0     AAPL 2023-01-03  125.070000\n1     AAPL 2023-01-04  126.360001\n2     AAPL 2023-01-05  125.019997\n3     AAPL 2023-01-06  129.619995\n4     AAPL 2023-01-09  130.149994\n..     ...        ...         ...\n296   META 2024-03-08  505.950012\n297   META 2024-03-11  483.589996\n298   META 2024-03-12  499.750000\n299   META 2024-03-13  495.570007\n300   META 2024-03-14  491.829987\n\n[2107 rows x 3 columns]",
      "text/html": "<div>\n<style scoped>\n    .dataframe tbody tr th:only-of-type {\n        vertical-align: middle;\n    }\n\n    .dataframe tbody tr th {\n        vertical-align: top;\n    }\n\n    .dataframe thead th {\n        text-align: right;\n    }\n</style>\n<table border=\"1\" class=\"dataframe\">\n  <thead>\n    <tr style=\"text-align: right;\">\n      <th></th>\n      <th>Ticker</th>\n      <th>Date</th>\n      <th>Close</th>\n    </tr>\n  </thead>\n  <tbody>\n    <tr>\n      <th>0</th>\n      <td>AAPL</td>\n      <td>2023-01-03</td>\n      <td>125.070000</td>\n    </tr>\n    <tr>\n      <th>1</th>\n      <td>AAPL</td>\n      <td>2023-01-04</td>\n      <td>126.360001</td>\n    </tr>\n    <tr>\n      <th>2</th>\n      <td>AAPL</td>\n      <td>2023-01-05</td>\n      <td>125.019997</td>\n    </tr>\n    <tr>\n      <th>3</th>\n      <td>AAPL</td>\n      <td>2023-01-06</td>\n      <td>129.619995</td>\n    </tr>\n    <tr>\n      <th>4</th>\n      <td>AAPL</td>\n      <td>2023-01-09</td>\n      <td>130.149994</td>\n    </tr>\n    <tr>\n      <th>...</th>\n      <td>...</td>\n      <td>...</td>\n      <td>...</td>\n    </tr>\n    <tr>\n      <th>296</th>\n      <td>META</td>\n      <td>2024-03-08</td>\n      <td>505.950012</td>\n    </tr>\n    <tr>\n      <th>297</th>\n      <td>META</td>\n      <td>2024-03-11</td>\n      <td>483.589996</td>\n    </tr>\n    <tr>\n      <th>298</th>\n      <td>META</td>\n      <td>2024-03-12</td>\n      <td>499.750000</td>\n    </tr>\n    <tr>\n      <th>299</th>\n      <td>META</td>\n      <td>2024-03-13</td>\n      <td>495.570007</td>\n    </tr>\n    <tr>\n      <th>300</th>\n      <td>META</td>\n      <td>2024-03-14</td>\n      <td>491.829987</td>\n    </tr>\n  </tbody>\n</table>\n<p>2107 rows × 3 columns</p>\n</div>"
     },
     "execution_count": 7,
     "metadata": {},
     "output_type": "execute_result"
    }
   ],
   "source": [
    "df = pd.DataFrame()\n",
    "\n",
    "for ticker in tickers:\n",
    "    df_temp = pdr.get_data_yahoo(ticker, start='2023-01-01', end='2024-03-15').reset_index()\n",
    "    df_temp['Ticker'] = ticker\n",
    "    df_temp = df_temp[['Ticker', 'Date', 'Close']]\n",
    "    df = df._append(df_temp)\n",
    "\n",
    "df   "
   ],
   "metadata": {
    "collapsed": false,
    "ExecuteTime": {
     "end_time": "2024-03-19T09:30:22.456017Z",
     "start_time": "2024-03-19T09:30:20.961268Z"
    }
   },
   "id": "bead1909e456fe9d",
   "execution_count": 7
  }
 ],
 "metadata": {
  "kernelspec": {
   "display_name": "Python 3",
   "language": "python",
   "name": "python3"
  },
  "language_info": {
   "codemirror_mode": {
    "name": "ipython",
    "version": 2
   },
   "file_extension": ".py",
   "mimetype": "text/x-python",
   "name": "python",
   "nbconvert_exporter": "python",
   "pygments_lexer": "ipython2",
   "version": "2.7.6"
  }
 },
 "nbformat": 4,
 "nbformat_minor": 5
}
