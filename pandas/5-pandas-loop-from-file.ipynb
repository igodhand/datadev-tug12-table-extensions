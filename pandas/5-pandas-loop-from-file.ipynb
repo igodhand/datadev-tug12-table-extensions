{
 "cells": [
  {
   "cell_type": "code",
   "execution_count": 8,
   "id": "initial_id",
   "metadata": {
    "collapsed": true,
    "ExecuteTime": {
     "end_time": "2024-03-19T09:54:26.605904Z",
     "start_time": "2024-03-19T09:54:26.603307Z"
    }
   },
   "outputs": [],
   "source": [
    "import pandas as pd\n",
    "import pandas_datareader.data as pdr\n",
    "import yfinance as yf\n",
    "yf.pdr_override()"
   ]
  },
  {
   "cell_type": "code",
   "outputs": [
    {
     "data": {
      "text/plain": "  Ticker\n0   TSLA\n1   META\n2   NVDA",
      "text/html": "<div>\n<style scoped>\n    .dataframe tbody tr th:only-of-type {\n        vertical-align: middle;\n    }\n\n    .dataframe tbody tr th {\n        vertical-align: top;\n    }\n\n    .dataframe thead th {\n        text-align: right;\n    }\n</style>\n<table border=\"1\" class=\"dataframe\">\n  <thead>\n    <tr style=\"text-align: right;\">\n      <th></th>\n      <th>Ticker</th>\n    </tr>\n  </thead>\n  <tbody>\n    <tr>\n      <th>0</th>\n      <td>TSLA</td>\n    </tr>\n    <tr>\n      <th>1</th>\n      <td>META</td>\n    </tr>\n    <tr>\n      <th>2</th>\n      <td>NVDA</td>\n    </tr>\n  </tbody>\n</table>\n</div>"
     },
     "execution_count": 9,
     "metadata": {},
     "output_type": "execute_result"
    }
   ],
   "source": [
    "df_ticker = pd.read_csv(\"../data/Ticker.csv\")\n",
    "df_ticker"
   ],
   "metadata": {
    "collapsed": false,
    "ExecuteTime": {
     "end_time": "2024-03-19T09:54:26.613096Z",
     "start_time": "2024-03-19T09:54:26.606906Z"
    }
   },
   "id": "d6bd4a8c1ce656c7",
   "execution_count": 9
  },
  {
   "cell_type": "code",
   "outputs": [
    {
     "data": {
      "text/plain": "['TSLA', 'META', 'NVDA']"
     },
     "execution_count": 10,
     "metadata": {},
     "output_type": "execute_result"
    }
   ],
   "source": [
    "tickers = df_ticker['Ticker'].tolist()\n",
    "tickers"
   ],
   "metadata": {
    "collapsed": false,
    "ExecuteTime": {
     "end_time": "2024-03-19T09:54:26.617081Z",
     "start_time": "2024-03-19T09:54:26.614098Z"
    }
   },
   "id": "7dcb6859f19e3f06",
   "execution_count": 10
  },
  {
   "cell_type": "code",
   "outputs": [
    {
     "name": "stderr",
     "output_type": "stream",
     "text": [
      "[*********************100%%**********************]  1 of 1 completed\n",
      "[*********************100%%**********************]  1 of 1 completed\n",
      "[*********************100%%**********************]  1 of 1 completed\n"
     ]
    },
    {
     "data": {
      "text/plain": "    Ticker       Date       Close\n0     TSLA 2023-01-03  108.099998\n1     TSLA 2023-01-04  113.639999\n2     TSLA 2023-01-05  110.339996\n3     TSLA 2023-01-06  113.059998\n4     TSLA 2023-01-09  119.769997\n..     ...        ...         ...\n296   NVDA 2024-03-08  875.280029\n297   NVDA 2024-03-11  857.739990\n298   NVDA 2024-03-12  919.130005\n299   NVDA 2024-03-13  908.880005\n300   NVDA 2024-03-14  879.440002\n\n[903 rows x 3 columns]",
      "text/html": "<div>\n<style scoped>\n    .dataframe tbody tr th:only-of-type {\n        vertical-align: middle;\n    }\n\n    .dataframe tbody tr th {\n        vertical-align: top;\n    }\n\n    .dataframe thead th {\n        text-align: right;\n    }\n</style>\n<table border=\"1\" class=\"dataframe\">\n  <thead>\n    <tr style=\"text-align: right;\">\n      <th></th>\n      <th>Ticker</th>\n      <th>Date</th>\n      <th>Close</th>\n    </tr>\n  </thead>\n  <tbody>\n    <tr>\n      <th>0</th>\n      <td>TSLA</td>\n      <td>2023-01-03</td>\n      <td>108.099998</td>\n    </tr>\n    <tr>\n      <th>1</th>\n      <td>TSLA</td>\n      <td>2023-01-04</td>\n      <td>113.639999</td>\n    </tr>\n    <tr>\n      <th>2</th>\n      <td>TSLA</td>\n      <td>2023-01-05</td>\n      <td>110.339996</td>\n    </tr>\n    <tr>\n      <th>3</th>\n      <td>TSLA</td>\n      <td>2023-01-06</td>\n      <td>113.059998</td>\n    </tr>\n    <tr>\n      <th>4</th>\n      <td>TSLA</td>\n      <td>2023-01-09</td>\n      <td>119.769997</td>\n    </tr>\n    <tr>\n      <th>...</th>\n      <td>...</td>\n      <td>...</td>\n      <td>...</td>\n    </tr>\n    <tr>\n      <th>296</th>\n      <td>NVDA</td>\n      <td>2024-03-08</td>\n      <td>875.280029</td>\n    </tr>\n    <tr>\n      <th>297</th>\n      <td>NVDA</td>\n      <td>2024-03-11</td>\n      <td>857.739990</td>\n    </tr>\n    <tr>\n      <th>298</th>\n      <td>NVDA</td>\n      <td>2024-03-12</td>\n      <td>919.130005</td>\n    </tr>\n    <tr>\n      <th>299</th>\n      <td>NVDA</td>\n      <td>2024-03-13</td>\n      <td>908.880005</td>\n    </tr>\n    <tr>\n      <th>300</th>\n      <td>NVDA</td>\n      <td>2024-03-14</td>\n      <td>879.440002</td>\n    </tr>\n  </tbody>\n</table>\n<p>903 rows × 3 columns</p>\n</div>"
     },
     "execution_count": 11,
     "metadata": {},
     "output_type": "execute_result"
    }
   ],
   "source": [
    "df = pd.DataFrame()\n",
    "\n",
    "for ticker in tickers:\n",
    "    df_temp = pdr.get_data_yahoo(ticker, start='2023-01-01', end='2024-03-15').reset_index()\n",
    "    df_temp['Ticker'] = ticker\n",
    "    df_temp = df_temp[['Ticker', 'Date', 'Close']]\n",
    "    df = df._append(df_temp)\n",
    "\n",
    "df   "
   ],
   "metadata": {
    "collapsed": false,
    "ExecuteTime": {
     "end_time": "2024-03-19T09:54:26.662651Z",
     "start_time": "2024-03-19T09:54:26.618083Z"
    }
   },
   "id": "bead1909e456fe9d",
   "execution_count": 11
  }
 ],
 "metadata": {
  "kernelspec": {
   "display_name": "Python 3",
   "language": "python",
   "name": "python3"
  },
  "language_info": {
   "codemirror_mode": {
    "name": "ipython",
    "version": 2
   },
   "file_extension": ".py",
   "mimetype": "text/x-python",
   "name": "python",
   "nbconvert_exporter": "python",
   "pygments_lexer": "ipython2",
   "version": "2.7.6"
  }
 },
 "nbformat": 4,
 "nbformat_minor": 5
}
