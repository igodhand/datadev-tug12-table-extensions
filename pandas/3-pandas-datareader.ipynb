{
 "cells": [
  {
   "cell_type": "code",
   "execution_count": 22,
   "id": "initial_id",
   "metadata": {
    "collapsed": true,
    "ExecuteTime": {
     "end_time": "2024-03-18T14:37:35.035253900Z",
     "start_time": "2024-03-18T14:37:35.026497100Z"
    }
   },
   "outputs": [],
   "source": [
    "import pandas as pd\n",
    "from pandas_datareader import data as pdr\n",
    "import yfinance as yfin\n",
    "yfin.pdr_override()"
   ]
  },
  {
   "cell_type": "code",
   "outputs": [
    {
     "name": "stderr",
     "output_type": "stream",
     "text": [
      "[*********************100%%**********************]  1 of 1 completed\n"
     ]
    },
    {
     "data": {
      "text/plain": "    Ticker       Date       Close\n0     AAPL 2023-01-03  125.070000\n1     AAPL 2023-01-04  126.360001\n2     AAPL 2023-01-05  125.019997\n3     AAPL 2023-01-06  129.619995\n4     AAPL 2023-01-09  130.149994\n..     ...        ...         ...\n296   AAPL 2024-03-08  170.729996\n297   AAPL 2024-03-11  172.750000\n298   AAPL 2024-03-12  173.229996\n299   AAPL 2024-03-13  171.130005\n300   AAPL 2024-03-14  173.000000\n\n[301 rows x 3 columns]",
      "text/html": "<div>\n<style scoped>\n    .dataframe tbody tr th:only-of-type {\n        vertical-align: middle;\n    }\n\n    .dataframe tbody tr th {\n        vertical-align: top;\n    }\n\n    .dataframe thead th {\n        text-align: right;\n    }\n</style>\n<table border=\"1\" class=\"dataframe\">\n  <thead>\n    <tr style=\"text-align: right;\">\n      <th></th>\n      <th>Ticker</th>\n      <th>Date</th>\n      <th>Close</th>\n    </tr>\n  </thead>\n  <tbody>\n    <tr>\n      <th>0</th>\n      <td>AAPL</td>\n      <td>2023-01-03</td>\n      <td>125.070000</td>\n    </tr>\n    <tr>\n      <th>1</th>\n      <td>AAPL</td>\n      <td>2023-01-04</td>\n      <td>126.360001</td>\n    </tr>\n    <tr>\n      <th>2</th>\n      <td>AAPL</td>\n      <td>2023-01-05</td>\n      <td>125.019997</td>\n    </tr>\n    <tr>\n      <th>3</th>\n      <td>AAPL</td>\n      <td>2023-01-06</td>\n      <td>129.619995</td>\n    </tr>\n    <tr>\n      <th>4</th>\n      <td>AAPL</td>\n      <td>2023-01-09</td>\n      <td>130.149994</td>\n    </tr>\n    <tr>\n      <th>...</th>\n      <td>...</td>\n      <td>...</td>\n      <td>...</td>\n    </tr>\n    <tr>\n      <th>296</th>\n      <td>AAPL</td>\n      <td>2024-03-08</td>\n      <td>170.729996</td>\n    </tr>\n    <tr>\n      <th>297</th>\n      <td>AAPL</td>\n      <td>2024-03-11</td>\n      <td>172.750000</td>\n    </tr>\n    <tr>\n      <th>298</th>\n      <td>AAPL</td>\n      <td>2024-03-12</td>\n      <td>173.229996</td>\n    </tr>\n    <tr>\n      <th>299</th>\n      <td>AAPL</td>\n      <td>2024-03-13</td>\n      <td>171.130005</td>\n    </tr>\n    <tr>\n      <th>300</th>\n      <td>AAPL</td>\n      <td>2024-03-14</td>\n      <td>173.000000</td>\n    </tr>\n  </tbody>\n</table>\n<p>301 rows × 3 columns</p>\n</div>"
     },
     "execution_count": 23,
     "metadata": {},
     "output_type": "execute_result"
    }
   ],
   "source": [
    "df1 = pdr.get_data_yahoo('AAPL', start='2023-01-01', end='2024-03-15').reset_index()\n",
    "df1['Ticker'] = 'AAPL'\n",
    "df1 = df1[['Ticker','Date','Close']]\n",
    "df1"
   ],
   "metadata": {
    "collapsed": false,
    "ExecuteTime": {
     "end_time": "2024-03-18T14:37:35.065455700Z",
     "start_time": "2024-03-18T14:37:35.033252Z"
    }
   },
   "id": "d6bd4a8c1ce656c7",
   "execution_count": 23
  },
  {
   "cell_type": "code",
   "outputs": [
    {
     "name": "stderr",
     "output_type": "stream",
     "text": [
      "[*********************100%%**********************]  1 of 1 completed\n"
     ]
    },
    {
     "data": {
      "text/plain": "    Ticker       Date       Close\n0     GOOG 2023-01-03   89.699997\n1     GOOG 2023-01-04   88.709999\n2     GOOG 2023-01-05   86.769997\n3     GOOG 2023-01-06   88.160004\n4     GOOG 2023-01-09   88.800003\n..     ...        ...         ...\n296   GOOG 2024-03-08  136.289993\n297   GOOG 2024-03-11  138.940002\n298   GOOG 2024-03-12  139.619995\n299   GOOG 2024-03-13  140.770004\n300   GOOG 2024-03-14  144.339996\n\n[301 rows x 3 columns]",
      "text/html": "<div>\n<style scoped>\n    .dataframe tbody tr th:only-of-type {\n        vertical-align: middle;\n    }\n\n    .dataframe tbody tr th {\n        vertical-align: top;\n    }\n\n    .dataframe thead th {\n        text-align: right;\n    }\n</style>\n<table border=\"1\" class=\"dataframe\">\n  <thead>\n    <tr style=\"text-align: right;\">\n      <th></th>\n      <th>Ticker</th>\n      <th>Date</th>\n      <th>Close</th>\n    </tr>\n  </thead>\n  <tbody>\n    <tr>\n      <th>0</th>\n      <td>GOOG</td>\n      <td>2023-01-03</td>\n      <td>89.699997</td>\n    </tr>\n    <tr>\n      <th>1</th>\n      <td>GOOG</td>\n      <td>2023-01-04</td>\n      <td>88.709999</td>\n    </tr>\n    <tr>\n      <th>2</th>\n      <td>GOOG</td>\n      <td>2023-01-05</td>\n      <td>86.769997</td>\n    </tr>\n    <tr>\n      <th>3</th>\n      <td>GOOG</td>\n      <td>2023-01-06</td>\n      <td>88.160004</td>\n    </tr>\n    <tr>\n      <th>4</th>\n      <td>GOOG</td>\n      <td>2023-01-09</td>\n      <td>88.800003</td>\n    </tr>\n    <tr>\n      <th>...</th>\n      <td>...</td>\n      <td>...</td>\n      <td>...</td>\n    </tr>\n    <tr>\n      <th>296</th>\n      <td>GOOG</td>\n      <td>2024-03-08</td>\n      <td>136.289993</td>\n    </tr>\n    <tr>\n      <th>297</th>\n      <td>GOOG</td>\n      <td>2024-03-11</td>\n      <td>138.940002</td>\n    </tr>\n    <tr>\n      <th>298</th>\n      <td>GOOG</td>\n      <td>2024-03-12</td>\n      <td>139.619995</td>\n    </tr>\n    <tr>\n      <th>299</th>\n      <td>GOOG</td>\n      <td>2024-03-13</td>\n      <td>140.770004</td>\n    </tr>\n    <tr>\n      <th>300</th>\n      <td>GOOG</td>\n      <td>2024-03-14</td>\n      <td>144.339996</td>\n    </tr>\n  </tbody>\n</table>\n<p>301 rows × 3 columns</p>\n</div>"
     },
     "execution_count": 24,
     "metadata": {},
     "output_type": "execute_result"
    }
   ],
   "source": [
    "df2 = pdr.get_data_yahoo('GOOG', start='2023-01-01', end='2024-03-15').reset_index()\n",
    "df2['Ticker'] = 'GOOG'\n",
    "df2 = df2[['Ticker','Date','Close']]\n",
    "df2"
   ],
   "metadata": {
    "collapsed": false,
    "ExecuteTime": {
     "end_time": "2024-03-18T14:37:35.311188400Z",
     "start_time": "2024-03-18T14:37:35.068450200Z"
    }
   },
   "id": "72d27639570f8676",
   "execution_count": 24
  },
  {
   "cell_type": "code",
   "outputs": [
    {
     "name": "stderr",
     "output_type": "stream",
     "text": [
      "[*********************100%%**********************]  1 of 1 completed\n"
     ]
    },
    {
     "data": {
      "text/plain": "    Ticker       Date       Close\n0      CRM 2023-01-03  134.779999\n1      CRM 2023-01-04  139.589996\n2      CRM 2023-01-05  136.339996\n3      CRM 2023-01-06  140.509995\n4      CRM 2023-01-09  147.100006\n..     ...        ...         ...\n296    CRM 2024-03-08  305.279999\n297    CRM 2024-03-11  306.000000\n298    CRM 2024-03-12  306.619995\n299    CRM 2024-03-13  304.679993\n300    CRM 2024-03-14  303.320007\n\n[301 rows x 3 columns]",
      "text/html": "<div>\n<style scoped>\n    .dataframe tbody tr th:only-of-type {\n        vertical-align: middle;\n    }\n\n    .dataframe tbody tr th {\n        vertical-align: top;\n    }\n\n    .dataframe thead th {\n        text-align: right;\n    }\n</style>\n<table border=\"1\" class=\"dataframe\">\n  <thead>\n    <tr style=\"text-align: right;\">\n      <th></th>\n      <th>Ticker</th>\n      <th>Date</th>\n      <th>Close</th>\n    </tr>\n  </thead>\n  <tbody>\n    <tr>\n      <th>0</th>\n      <td>CRM</td>\n      <td>2023-01-03</td>\n      <td>134.779999</td>\n    </tr>\n    <tr>\n      <th>1</th>\n      <td>CRM</td>\n      <td>2023-01-04</td>\n      <td>139.589996</td>\n    </tr>\n    <tr>\n      <th>2</th>\n      <td>CRM</td>\n      <td>2023-01-05</td>\n      <td>136.339996</td>\n    </tr>\n    <tr>\n      <th>3</th>\n      <td>CRM</td>\n      <td>2023-01-06</td>\n      <td>140.509995</td>\n    </tr>\n    <tr>\n      <th>4</th>\n      <td>CRM</td>\n      <td>2023-01-09</td>\n      <td>147.100006</td>\n    </tr>\n    <tr>\n      <th>...</th>\n      <td>...</td>\n      <td>...</td>\n      <td>...</td>\n    </tr>\n    <tr>\n      <th>296</th>\n      <td>CRM</td>\n      <td>2024-03-08</td>\n      <td>305.279999</td>\n    </tr>\n    <tr>\n      <th>297</th>\n      <td>CRM</td>\n      <td>2024-03-11</td>\n      <td>306.000000</td>\n    </tr>\n    <tr>\n      <th>298</th>\n      <td>CRM</td>\n      <td>2024-03-12</td>\n      <td>306.619995</td>\n    </tr>\n    <tr>\n      <th>299</th>\n      <td>CRM</td>\n      <td>2024-03-13</td>\n      <td>304.679993</td>\n    </tr>\n    <tr>\n      <th>300</th>\n      <td>CRM</td>\n      <td>2024-03-14</td>\n      <td>303.320007</td>\n    </tr>\n  </tbody>\n</table>\n<p>301 rows × 3 columns</p>\n</div>"
     },
     "execution_count": 25,
     "metadata": {},
     "output_type": "execute_result"
    }
   ],
   "source": [
    "df3 = pdr.get_data_yahoo('CRM', start='2023-01-01', end='2024-03-15').reset_index()\n",
    "df3['Ticker'] = 'CRM'\n",
    "df3 = df3[['Ticker','Date','Close']]\n",
    "df3"
   ],
   "metadata": {
    "collapsed": false,
    "ExecuteTime": {
     "end_time": "2024-03-18T14:37:35.444762800Z",
     "start_time": "2024-03-18T14:37:35.310156900Z"
    }
   },
   "id": "2aa6dee183b64ca2",
   "execution_count": 25
  },
  {
   "cell_type": "code",
   "outputs": [
    {
     "data": {
      "text/plain": "    Ticker       Date       Close\n0     AAPL 2023-01-03  125.070000\n1     AAPL 2023-01-04  126.360001\n2     AAPL 2023-01-05  125.019997\n3     AAPL 2023-01-06  129.619995\n4     AAPL 2023-01-09  130.149994\n..     ...        ...         ...\n296    CRM 2024-03-08  305.279999\n297    CRM 2024-03-11  306.000000\n298    CRM 2024-03-12  306.619995\n299    CRM 2024-03-13  304.679993\n300    CRM 2024-03-14  303.320007\n\n[903 rows x 3 columns]",
      "text/html": "<div>\n<style scoped>\n    .dataframe tbody tr th:only-of-type {\n        vertical-align: middle;\n    }\n\n    .dataframe tbody tr th {\n        vertical-align: top;\n    }\n\n    .dataframe thead th {\n        text-align: right;\n    }\n</style>\n<table border=\"1\" class=\"dataframe\">\n  <thead>\n    <tr style=\"text-align: right;\">\n      <th></th>\n      <th>Ticker</th>\n      <th>Date</th>\n      <th>Close</th>\n    </tr>\n  </thead>\n  <tbody>\n    <tr>\n      <th>0</th>\n      <td>AAPL</td>\n      <td>2023-01-03</td>\n      <td>125.070000</td>\n    </tr>\n    <tr>\n      <th>1</th>\n      <td>AAPL</td>\n      <td>2023-01-04</td>\n      <td>126.360001</td>\n    </tr>\n    <tr>\n      <th>2</th>\n      <td>AAPL</td>\n      <td>2023-01-05</td>\n      <td>125.019997</td>\n    </tr>\n    <tr>\n      <th>3</th>\n      <td>AAPL</td>\n      <td>2023-01-06</td>\n      <td>129.619995</td>\n    </tr>\n    <tr>\n      <th>4</th>\n      <td>AAPL</td>\n      <td>2023-01-09</td>\n      <td>130.149994</td>\n    </tr>\n    <tr>\n      <th>...</th>\n      <td>...</td>\n      <td>...</td>\n      <td>...</td>\n    </tr>\n    <tr>\n      <th>296</th>\n      <td>CRM</td>\n      <td>2024-03-08</td>\n      <td>305.279999</td>\n    </tr>\n    <tr>\n      <th>297</th>\n      <td>CRM</td>\n      <td>2024-03-11</td>\n      <td>306.000000</td>\n    </tr>\n    <tr>\n      <th>298</th>\n      <td>CRM</td>\n      <td>2024-03-12</td>\n      <td>306.619995</td>\n    </tr>\n    <tr>\n      <th>299</th>\n      <td>CRM</td>\n      <td>2024-03-13</td>\n      <td>304.679993</td>\n    </tr>\n    <tr>\n      <th>300</th>\n      <td>CRM</td>\n      <td>2024-03-14</td>\n      <td>303.320007</td>\n    </tr>\n  </tbody>\n</table>\n<p>903 rows × 3 columns</p>\n</div>"
     },
     "execution_count": 27,
     "metadata": {},
     "output_type": "execute_result"
    }
   ],
   "source": [
    "df = pd.concat([df1, df2, df3])\n",
    "df"
   ],
   "metadata": {
    "collapsed": false,
    "ExecuteTime": {
     "end_time": "2024-03-18T14:38:05.376649700Z",
     "start_time": "2024-03-18T14:38:05.370943900Z"
    }
   },
   "id": "ea920f3db6d3a82e",
   "execution_count": 27
  },
  {
   "cell_type": "code",
   "outputs": [],
   "source": [],
   "metadata": {
    "collapsed": false
   },
   "id": "313d30ce7e8a8298"
  }
 ],
 "metadata": {
  "kernelspec": {
   "display_name": "Python 3",
   "language": "python",
   "name": "python3"
  },
  "language_info": {
   "codemirror_mode": {
    "name": "ipython",
    "version": 2
   },
   "file_extension": ".py",
   "mimetype": "text/x-python",
   "name": "python",
   "nbconvert_exporter": "python",
   "pygments_lexer": "ipython2",
   "version": "2.7.6"
  }
 },
 "nbformat": 4,
 "nbformat_minor": 5
}
