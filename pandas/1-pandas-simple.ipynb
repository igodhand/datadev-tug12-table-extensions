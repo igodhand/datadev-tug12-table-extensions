{
 "cells": [
  {
   "cell_type": "code",
   "execution_count": 8,
   "id": "initial_id",
   "metadata": {
    "collapsed": true,
    "ExecuteTime": {
     "end_time": "2024-03-18T15:00:31.807889100Z",
     "start_time": "2024-03-18T15:00:31.771945200Z"
    }
   },
   "outputs": [],
   "source": [
    "import pandas as pd\n",
    "pd.options.mode.chained_assignment = None\n",
    "\n",
    "df = pd.read_csv(\"../data/SuperStore2024.csv\")"
   ]
  },
  {
   "cell_type": "code",
   "outputs": [
    {
     "data": {
      "text/plain": "      Row ID        Order ID  Order Date   Ship Date       Ship Mode  \\\n0          1  US-2021-103800  2021-01-03  2021-01-07  Standard Class   \n1          2  US-2021-112326  2021-01-04  2021-01-08  Standard Class   \n2          3  US-2021-112326  2021-01-04  2021-01-08  Standard Class   \n3          4  US-2021-112326  2021-01-04  2021-01-08  Standard Class   \n4          5  US-2021-141817  2021-01-05  2021-01-12  Standard Class   \n...      ...             ...         ...         ...             ...   \n7323    7324  US-2024-160143  2024-03-31  2024-04-07  Standard Class   \n7324    7325  US-2024-133263  2024-03-31  2024-04-02    Second Class   \n7325    7326  US-2024-159205  2024-03-31  2024-04-02    Second Class   \n7326    7327  US-2024-102771  2024-03-31  2024-04-05  Standard Class   \n7327    7328  US-2024-100524  2024-03-31  2024-04-02    Second Class   \n\n     Customer ID  Customer Name      Segment Country/Region           City  \\\n0       DP-13000  Darren Powers     Consumer  United States        Houston   \n1       PO-19195  Phillina Ober  Home Office  United States     Naperville   \n2       PO-19195  Phillina Ober  Home Office  United States     Naperville   \n3       PO-19195  Phillina Ober  Home Office  United States     Naperville   \n4       MB-18085     Mick Brown     Consumer  United States   Philadelphia   \n...          ...            ...          ...            ...            ...   \n7323    HG-14965  Henry Goldwyn    Corporate  United States    Los Angeles   \n7324    JE-15610        Jim Epp    Corporate  United States        Atlanta   \n7325    DB-12910    Daniel Byrd  Home Office  United States      Henderson   \n7326    DO-13435   Denny Ordway     Consumer  United States  New York City   \n7327    CM-12115   Chad McGuire     Consumer  United States  New York City   \n\n      ... Postal Code   Region       Product ID         Category Sub-Category  \\\n0     ...       77095  Central  OFF-PA-10000174  Office Supplies        Paper   \n1     ...       60540  Central  OFF-BI-10004094  Office Supplies      Binders   \n2     ...       60540  Central  OFF-LA-10003223  Office Supplies       Labels   \n3     ...       60540  Central  OFF-ST-10002743  Office Supplies      Storage   \n4     ...       19143     East  OFF-AR-10003478  Office Supplies          Art   \n...   ...         ...      ...              ...              ...          ...   \n7323  ...       90004     West  OFF-SU-10004231  Office Supplies     Supplies   \n7324  ...       30318    South  TEC-CO-10001449       Technology      Copiers   \n7325  ...       42420    South  TEC-PH-10000526       Technology       Phones   \n7326  ...       10035     East  TEC-PH-10001536       Technology       Phones   \n7327  ...       10011     East  TEC-PH-10002549       Technology       Phones   \n\n                                           Product Name     Sales  Quantity  \\\n0     Message Book Wirebound Four 5 1/2\" X 4\" Forms/...    16.448         2   \n1            GBC Standard Plastic Binding Systems Combs     3.540         2   \n2                                             Avery 508    11.784         3   \n3                         SAFCO Boltless Steel Shelving   272.736         3   \n4     Avery Hi-Liter EverBold Pen Style Fluorescent ...    19.536         3   \n...                                                 ...       ...       ...   \n7323  Acme Tagit Stainless Steel Antibacterial Scissors    29.700         3   \n7324               Hewlett Packard LaserJet 3310 Copier  2999.950         5   \n7325                                       Vtech CS6719   671.930         7   \n7326               Spigen Samsung Galaxy S5 Case Wallet    84.950         5   \n7327               Polycom SoundPoint IP 450 VoIP phone   677.580         3   \n\n      Discount     Profit  \n0          0.2     5.5512  \n1          0.8    -5.4870  \n2          0.2     4.2717  \n3          0.2   -64.7748  \n4          0.2     4.8840  \n...        ...        ...  \n7323       0.0     8.0190  \n7324       0.0  1439.9760  \n7325       0.0   188.1404  \n7326       0.0    22.0870  \n7327       0.0   176.1708  \n\n[7328 rows x 21 columns]",
      "text/html": "<div>\n<style scoped>\n    .dataframe tbody tr th:only-of-type {\n        vertical-align: middle;\n    }\n\n    .dataframe tbody tr th {\n        vertical-align: top;\n    }\n\n    .dataframe thead th {\n        text-align: right;\n    }\n</style>\n<table border=\"1\" class=\"dataframe\">\n  <thead>\n    <tr style=\"text-align: right;\">\n      <th></th>\n      <th>Row ID</th>\n      <th>Order ID</th>\n      <th>Order Date</th>\n      <th>Ship Date</th>\n      <th>Ship Mode</th>\n      <th>Customer ID</th>\n      <th>Customer Name</th>\n      <th>Segment</th>\n      <th>Country/Region</th>\n      <th>City</th>\n      <th>...</th>\n      <th>Postal Code</th>\n      <th>Region</th>\n      <th>Product ID</th>\n      <th>Category</th>\n      <th>Sub-Category</th>\n      <th>Product Name</th>\n      <th>Sales</th>\n      <th>Quantity</th>\n      <th>Discount</th>\n      <th>Profit</th>\n    </tr>\n  </thead>\n  <tbody>\n    <tr>\n      <th>0</th>\n      <td>1</td>\n      <td>US-2021-103800</td>\n      <td>2021-01-03</td>\n      <td>2021-01-07</td>\n      <td>Standard Class</td>\n      <td>DP-13000</td>\n      <td>Darren Powers</td>\n      <td>Consumer</td>\n      <td>United States</td>\n      <td>Houston</td>\n      <td>...</td>\n      <td>77095</td>\n      <td>Central</td>\n      <td>OFF-PA-10000174</td>\n      <td>Office Supplies</td>\n      <td>Paper</td>\n      <td>Message Book Wirebound Four 5 1/2\" X 4\" Forms/...</td>\n      <td>16.448</td>\n      <td>2</td>\n      <td>0.2</td>\n      <td>5.5512</td>\n    </tr>\n    <tr>\n      <th>1</th>\n      <td>2</td>\n      <td>US-2021-112326</td>\n      <td>2021-01-04</td>\n      <td>2021-01-08</td>\n      <td>Standard Class</td>\n      <td>PO-19195</td>\n      <td>Phillina Ober</td>\n      <td>Home Office</td>\n      <td>United States</td>\n      <td>Naperville</td>\n      <td>...</td>\n      <td>60540</td>\n      <td>Central</td>\n      <td>OFF-BI-10004094</td>\n      <td>Office Supplies</td>\n      <td>Binders</td>\n      <td>GBC Standard Plastic Binding Systems Combs</td>\n      <td>3.540</td>\n      <td>2</td>\n      <td>0.8</td>\n      <td>-5.4870</td>\n    </tr>\n    <tr>\n      <th>2</th>\n      <td>3</td>\n      <td>US-2021-112326</td>\n      <td>2021-01-04</td>\n      <td>2021-01-08</td>\n      <td>Standard Class</td>\n      <td>PO-19195</td>\n      <td>Phillina Ober</td>\n      <td>Home Office</td>\n      <td>United States</td>\n      <td>Naperville</td>\n      <td>...</td>\n      <td>60540</td>\n      <td>Central</td>\n      <td>OFF-LA-10003223</td>\n      <td>Office Supplies</td>\n      <td>Labels</td>\n      <td>Avery 508</td>\n      <td>11.784</td>\n      <td>3</td>\n      <td>0.2</td>\n      <td>4.2717</td>\n    </tr>\n    <tr>\n      <th>3</th>\n      <td>4</td>\n      <td>US-2021-112326</td>\n      <td>2021-01-04</td>\n      <td>2021-01-08</td>\n      <td>Standard Class</td>\n      <td>PO-19195</td>\n      <td>Phillina Ober</td>\n      <td>Home Office</td>\n      <td>United States</td>\n      <td>Naperville</td>\n      <td>...</td>\n      <td>60540</td>\n      <td>Central</td>\n      <td>OFF-ST-10002743</td>\n      <td>Office Supplies</td>\n      <td>Storage</td>\n      <td>SAFCO Boltless Steel Shelving</td>\n      <td>272.736</td>\n      <td>3</td>\n      <td>0.2</td>\n      <td>-64.7748</td>\n    </tr>\n    <tr>\n      <th>4</th>\n      <td>5</td>\n      <td>US-2021-141817</td>\n      <td>2021-01-05</td>\n      <td>2021-01-12</td>\n      <td>Standard Class</td>\n      <td>MB-18085</td>\n      <td>Mick Brown</td>\n      <td>Consumer</td>\n      <td>United States</td>\n      <td>Philadelphia</td>\n      <td>...</td>\n      <td>19143</td>\n      <td>East</td>\n      <td>OFF-AR-10003478</td>\n      <td>Office Supplies</td>\n      <td>Art</td>\n      <td>Avery Hi-Liter EverBold Pen Style Fluorescent ...</td>\n      <td>19.536</td>\n      <td>3</td>\n      <td>0.2</td>\n      <td>4.8840</td>\n    </tr>\n    <tr>\n      <th>...</th>\n      <td>...</td>\n      <td>...</td>\n      <td>...</td>\n      <td>...</td>\n      <td>...</td>\n      <td>...</td>\n      <td>...</td>\n      <td>...</td>\n      <td>...</td>\n      <td>...</td>\n      <td>...</td>\n      <td>...</td>\n      <td>...</td>\n      <td>...</td>\n      <td>...</td>\n      <td>...</td>\n      <td>...</td>\n      <td>...</td>\n      <td>...</td>\n      <td>...</td>\n      <td>...</td>\n    </tr>\n    <tr>\n      <th>7323</th>\n      <td>7324</td>\n      <td>US-2024-160143</td>\n      <td>2024-03-31</td>\n      <td>2024-04-07</td>\n      <td>Standard Class</td>\n      <td>HG-14965</td>\n      <td>Henry Goldwyn</td>\n      <td>Corporate</td>\n      <td>United States</td>\n      <td>Los Angeles</td>\n      <td>...</td>\n      <td>90004</td>\n      <td>West</td>\n      <td>OFF-SU-10004231</td>\n      <td>Office Supplies</td>\n      <td>Supplies</td>\n      <td>Acme Tagit Stainless Steel Antibacterial Scissors</td>\n      <td>29.700</td>\n      <td>3</td>\n      <td>0.0</td>\n      <td>8.0190</td>\n    </tr>\n    <tr>\n      <th>7324</th>\n      <td>7325</td>\n      <td>US-2024-133263</td>\n      <td>2024-03-31</td>\n      <td>2024-04-02</td>\n      <td>Second Class</td>\n      <td>JE-15610</td>\n      <td>Jim Epp</td>\n      <td>Corporate</td>\n      <td>United States</td>\n      <td>Atlanta</td>\n      <td>...</td>\n      <td>30318</td>\n      <td>South</td>\n      <td>TEC-CO-10001449</td>\n      <td>Technology</td>\n      <td>Copiers</td>\n      <td>Hewlett Packard LaserJet 3310 Copier</td>\n      <td>2999.950</td>\n      <td>5</td>\n      <td>0.0</td>\n      <td>1439.9760</td>\n    </tr>\n    <tr>\n      <th>7325</th>\n      <td>7326</td>\n      <td>US-2024-159205</td>\n      <td>2024-03-31</td>\n      <td>2024-04-02</td>\n      <td>Second Class</td>\n      <td>DB-12910</td>\n      <td>Daniel Byrd</td>\n      <td>Home Office</td>\n      <td>United States</td>\n      <td>Henderson</td>\n      <td>...</td>\n      <td>42420</td>\n      <td>South</td>\n      <td>TEC-PH-10000526</td>\n      <td>Technology</td>\n      <td>Phones</td>\n      <td>Vtech CS6719</td>\n      <td>671.930</td>\n      <td>7</td>\n      <td>0.0</td>\n      <td>188.1404</td>\n    </tr>\n    <tr>\n      <th>7326</th>\n      <td>7327</td>\n      <td>US-2024-102771</td>\n      <td>2024-03-31</td>\n      <td>2024-04-05</td>\n      <td>Standard Class</td>\n      <td>DO-13435</td>\n      <td>Denny Ordway</td>\n      <td>Consumer</td>\n      <td>United States</td>\n      <td>New York City</td>\n      <td>...</td>\n      <td>10035</td>\n      <td>East</td>\n      <td>TEC-PH-10001536</td>\n      <td>Technology</td>\n      <td>Phones</td>\n      <td>Spigen Samsung Galaxy S5 Case Wallet</td>\n      <td>84.950</td>\n      <td>5</td>\n      <td>0.0</td>\n      <td>22.0870</td>\n    </tr>\n    <tr>\n      <th>7327</th>\n      <td>7328</td>\n      <td>US-2024-100524</td>\n      <td>2024-03-31</td>\n      <td>2024-04-02</td>\n      <td>Second Class</td>\n      <td>CM-12115</td>\n      <td>Chad McGuire</td>\n      <td>Consumer</td>\n      <td>United States</td>\n      <td>New York City</td>\n      <td>...</td>\n      <td>10011</td>\n      <td>East</td>\n      <td>TEC-PH-10002549</td>\n      <td>Technology</td>\n      <td>Phones</td>\n      <td>Polycom SoundPoint IP 450 VoIP phone</td>\n      <td>677.580</td>\n      <td>3</td>\n      <td>0.0</td>\n      <td>176.1708</td>\n    </tr>\n  </tbody>\n</table>\n<p>7328 rows × 21 columns</p>\n</div>"
     },
     "execution_count": 9,
     "metadata": {},
     "output_type": "execute_result"
    }
   ],
   "source": [
    "df"
   ],
   "metadata": {
    "collapsed": false,
    "ExecuteTime": {
     "end_time": "2024-03-18T15:00:31.826583300Z",
     "start_time": "2024-03-18T15:00:31.803889300Z"
    }
   },
   "id": "1dc9224fd9d84d38",
   "execution_count": 9
  },
  {
   "cell_type": "code",
   "outputs": [
    {
     "data": {
      "text/plain": "      Row ID  Customer Name     Sales     Profit\n0          1  Darren Powers    16.448     5.5512\n1          2  Phillina Ober     3.540    -5.4870\n2          3  Phillina Ober    11.784     4.2717\n3          4  Phillina Ober   272.736   -64.7748\n4          5     Mick Brown    19.536     4.8840\n...      ...            ...       ...        ...\n7323    7324  Henry Goldwyn    29.700     8.0190\n7324    7325        Jim Epp  2999.950  1439.9760\n7325    7326    Daniel Byrd   671.930   188.1404\n7326    7327   Denny Ordway    84.950    22.0870\n7327    7328   Chad McGuire   677.580   176.1708\n\n[7328 rows x 4 columns]",
      "text/html": "<div>\n<style scoped>\n    .dataframe tbody tr th:only-of-type {\n        vertical-align: middle;\n    }\n\n    .dataframe tbody tr th {\n        vertical-align: top;\n    }\n\n    .dataframe thead th {\n        text-align: right;\n    }\n</style>\n<table border=\"1\" class=\"dataframe\">\n  <thead>\n    <tr style=\"text-align: right;\">\n      <th></th>\n      <th>Row ID</th>\n      <th>Customer Name</th>\n      <th>Sales</th>\n      <th>Profit</th>\n    </tr>\n  </thead>\n  <tbody>\n    <tr>\n      <th>0</th>\n      <td>1</td>\n      <td>Darren Powers</td>\n      <td>16.448</td>\n      <td>5.5512</td>\n    </tr>\n    <tr>\n      <th>1</th>\n      <td>2</td>\n      <td>Phillina Ober</td>\n      <td>3.540</td>\n      <td>-5.4870</td>\n    </tr>\n    <tr>\n      <th>2</th>\n      <td>3</td>\n      <td>Phillina Ober</td>\n      <td>11.784</td>\n      <td>4.2717</td>\n    </tr>\n    <tr>\n      <th>3</th>\n      <td>4</td>\n      <td>Phillina Ober</td>\n      <td>272.736</td>\n      <td>-64.7748</td>\n    </tr>\n    <tr>\n      <th>4</th>\n      <td>5</td>\n      <td>Mick Brown</td>\n      <td>19.536</td>\n      <td>4.8840</td>\n    </tr>\n    <tr>\n      <th>...</th>\n      <td>...</td>\n      <td>...</td>\n      <td>...</td>\n      <td>...</td>\n    </tr>\n    <tr>\n      <th>7323</th>\n      <td>7324</td>\n      <td>Henry Goldwyn</td>\n      <td>29.700</td>\n      <td>8.0190</td>\n    </tr>\n    <tr>\n      <th>7324</th>\n      <td>7325</td>\n      <td>Jim Epp</td>\n      <td>2999.950</td>\n      <td>1439.9760</td>\n    </tr>\n    <tr>\n      <th>7325</th>\n      <td>7326</td>\n      <td>Daniel Byrd</td>\n      <td>671.930</td>\n      <td>188.1404</td>\n    </tr>\n    <tr>\n      <th>7326</th>\n      <td>7327</td>\n      <td>Denny Ordway</td>\n      <td>84.950</td>\n      <td>22.0870</td>\n    </tr>\n    <tr>\n      <th>7327</th>\n      <td>7328</td>\n      <td>Chad McGuire</td>\n      <td>677.580</td>\n      <td>176.1708</td>\n    </tr>\n  </tbody>\n</table>\n<p>7328 rows × 4 columns</p>\n</div>"
     },
     "execution_count": 10,
     "metadata": {},
     "output_type": "execute_result"
    }
   ],
   "source": [
    "df = df[['Row ID','Customer Name','Sales','Profit']]\n",
    "df"
   ],
   "metadata": {
    "collapsed": false,
    "ExecuteTime": {
     "end_time": "2024-03-18T15:00:31.846087500Z",
     "start_time": "2024-03-18T15:00:31.821583700Z"
    }
   },
   "id": "3bc3c8310537fb7c",
   "execution_count": 10
  },
  {
   "cell_type": "code",
   "outputs": [],
   "source": [
    "df['Cost'] = df['Sales'] - df['Profit']"
   ],
   "metadata": {
    "collapsed": false,
    "ExecuteTime": {
     "end_time": "2024-03-18T15:00:31.865658100Z",
     "start_time": "2024-03-18T15:00:31.833424400Z"
    }
   },
   "id": "c5b93eb032cb24d",
   "execution_count": 11
  },
  {
   "cell_type": "code",
   "outputs": [
    {
     "data": {
      "text/plain": "      Row ID  Customer Name     Sales     Profit       Cost\n0          1  Darren Powers    16.448     5.5512    10.8968\n1          2  Phillina Ober     3.540    -5.4870     9.0270\n2          3  Phillina Ober    11.784     4.2717     7.5123\n3          4  Phillina Ober   272.736   -64.7748   337.5108\n4          5     Mick Brown    19.536     4.8840    14.6520\n...      ...            ...       ...        ...        ...\n7323    7324  Henry Goldwyn    29.700     8.0190    21.6810\n7324    7325        Jim Epp  2999.950  1439.9760  1559.9740\n7325    7326    Daniel Byrd   671.930   188.1404   483.7896\n7326    7327   Denny Ordway    84.950    22.0870    62.8630\n7327    7328   Chad McGuire   677.580   176.1708   501.4092\n\n[7328 rows x 5 columns]",
      "text/html": "<div>\n<style scoped>\n    .dataframe tbody tr th:only-of-type {\n        vertical-align: middle;\n    }\n\n    .dataframe tbody tr th {\n        vertical-align: top;\n    }\n\n    .dataframe thead th {\n        text-align: right;\n    }\n</style>\n<table border=\"1\" class=\"dataframe\">\n  <thead>\n    <tr style=\"text-align: right;\">\n      <th></th>\n      <th>Row ID</th>\n      <th>Customer Name</th>\n      <th>Sales</th>\n      <th>Profit</th>\n      <th>Cost</th>\n    </tr>\n  </thead>\n  <tbody>\n    <tr>\n      <th>0</th>\n      <td>1</td>\n      <td>Darren Powers</td>\n      <td>16.448</td>\n      <td>5.5512</td>\n      <td>10.8968</td>\n    </tr>\n    <tr>\n      <th>1</th>\n      <td>2</td>\n      <td>Phillina Ober</td>\n      <td>3.540</td>\n      <td>-5.4870</td>\n      <td>9.0270</td>\n    </tr>\n    <tr>\n      <th>2</th>\n      <td>3</td>\n      <td>Phillina Ober</td>\n      <td>11.784</td>\n      <td>4.2717</td>\n      <td>7.5123</td>\n    </tr>\n    <tr>\n      <th>3</th>\n      <td>4</td>\n      <td>Phillina Ober</td>\n      <td>272.736</td>\n      <td>-64.7748</td>\n      <td>337.5108</td>\n    </tr>\n    <tr>\n      <th>4</th>\n      <td>5</td>\n      <td>Mick Brown</td>\n      <td>19.536</td>\n      <td>4.8840</td>\n      <td>14.6520</td>\n    </tr>\n    <tr>\n      <th>...</th>\n      <td>...</td>\n      <td>...</td>\n      <td>...</td>\n      <td>...</td>\n      <td>...</td>\n    </tr>\n    <tr>\n      <th>7323</th>\n      <td>7324</td>\n      <td>Henry Goldwyn</td>\n      <td>29.700</td>\n      <td>8.0190</td>\n      <td>21.6810</td>\n    </tr>\n    <tr>\n      <th>7324</th>\n      <td>7325</td>\n      <td>Jim Epp</td>\n      <td>2999.950</td>\n      <td>1439.9760</td>\n      <td>1559.9740</td>\n    </tr>\n    <tr>\n      <th>7325</th>\n      <td>7326</td>\n      <td>Daniel Byrd</td>\n      <td>671.930</td>\n      <td>188.1404</td>\n      <td>483.7896</td>\n    </tr>\n    <tr>\n      <th>7326</th>\n      <td>7327</td>\n      <td>Denny Ordway</td>\n      <td>84.950</td>\n      <td>22.0870</td>\n      <td>62.8630</td>\n    </tr>\n    <tr>\n      <th>7327</th>\n      <td>7328</td>\n      <td>Chad McGuire</td>\n      <td>677.580</td>\n      <td>176.1708</td>\n      <td>501.4092</td>\n    </tr>\n  </tbody>\n</table>\n<p>7328 rows × 5 columns</p>\n</div>"
     },
     "execution_count": 12,
     "metadata": {},
     "output_type": "execute_result"
    }
   ],
   "source": [
    "df"
   ],
   "metadata": {
    "collapsed": false,
    "ExecuteTime": {
     "end_time": "2024-03-18T15:00:31.866658900Z",
     "start_time": "2024-03-18T15:00:31.837816100Z"
    }
   },
   "id": "2116e246f90ef978",
   "execution_count": 12
  }
 ],
 "metadata": {
  "kernelspec": {
   "display_name": "Python 3",
   "language": "python",
   "name": "python3"
  },
  "language_info": {
   "codemirror_mode": {
    "name": "ipython",
    "version": 2
   },
   "file_extension": ".py",
   "mimetype": "text/x-python",
   "name": "python",
   "nbconvert_exporter": "python",
   "pygments_lexer": "ipython2",
   "version": "2.7.6"
  }
 },
 "nbformat": 4,
 "nbformat_minor": 5
}
