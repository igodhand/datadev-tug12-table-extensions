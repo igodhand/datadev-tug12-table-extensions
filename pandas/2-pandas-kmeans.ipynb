{
 "cells": [
  {
   "cell_type": "code",
   "execution_count": 4,
   "id": "initial_id",
   "metadata": {
    "collapsed": true,
    "ExecuteTime": {
     "end_time": "2024-03-19T09:55:09.274077Z",
     "start_time": "2024-03-19T09:55:09.260732Z"
    }
   },
   "outputs": [
    {
     "data": {
      "text/plain": "      Row ID  Order Date  Customer Name     Sales     Profit\n0          1  2021-01-03  Darren Powers    16.448     5.5512\n1          2  2021-01-04  Phillina Ober     3.540    -5.4870\n2          3  2021-01-04  Phillina Ober    11.784     4.2717\n3          4  2021-01-04  Phillina Ober   272.736   -64.7748\n4          5  2021-01-05     Mick Brown    19.536     4.8840\n...      ...         ...            ...       ...        ...\n7323    7324  2024-03-31  Henry Goldwyn    29.700     8.0190\n7324    7325  2024-03-31        Jim Epp  2999.950  1439.9760\n7325    7326  2024-03-31    Daniel Byrd   671.930   188.1404\n7326    7327  2024-03-31   Denny Ordway    84.950    22.0870\n7327    7328  2024-03-31   Chad McGuire   677.580   176.1708\n\n[7328 rows x 5 columns]",
      "text/html": "<div>\n<style scoped>\n    .dataframe tbody tr th:only-of-type {\n        vertical-align: middle;\n    }\n\n    .dataframe tbody tr th {\n        vertical-align: top;\n    }\n\n    .dataframe thead th {\n        text-align: right;\n    }\n</style>\n<table border=\"1\" class=\"dataframe\">\n  <thead>\n    <tr style=\"text-align: right;\">\n      <th></th>\n      <th>Row ID</th>\n      <th>Order Date</th>\n      <th>Customer Name</th>\n      <th>Sales</th>\n      <th>Profit</th>\n    </tr>\n  </thead>\n  <tbody>\n    <tr>\n      <th>0</th>\n      <td>1</td>\n      <td>2021-01-03</td>\n      <td>Darren Powers</td>\n      <td>16.448</td>\n      <td>5.5512</td>\n    </tr>\n    <tr>\n      <th>1</th>\n      <td>2</td>\n      <td>2021-01-04</td>\n      <td>Phillina Ober</td>\n      <td>3.540</td>\n      <td>-5.4870</td>\n    </tr>\n    <tr>\n      <th>2</th>\n      <td>3</td>\n      <td>2021-01-04</td>\n      <td>Phillina Ober</td>\n      <td>11.784</td>\n      <td>4.2717</td>\n    </tr>\n    <tr>\n      <th>3</th>\n      <td>4</td>\n      <td>2021-01-04</td>\n      <td>Phillina Ober</td>\n      <td>272.736</td>\n      <td>-64.7748</td>\n    </tr>\n    <tr>\n      <th>4</th>\n      <td>5</td>\n      <td>2021-01-05</td>\n      <td>Mick Brown</td>\n      <td>19.536</td>\n      <td>4.8840</td>\n    </tr>\n    <tr>\n      <th>...</th>\n      <td>...</td>\n      <td>...</td>\n      <td>...</td>\n      <td>...</td>\n      <td>...</td>\n    </tr>\n    <tr>\n      <th>7323</th>\n      <td>7324</td>\n      <td>2024-03-31</td>\n      <td>Henry Goldwyn</td>\n      <td>29.700</td>\n      <td>8.0190</td>\n    </tr>\n    <tr>\n      <th>7324</th>\n      <td>7325</td>\n      <td>2024-03-31</td>\n      <td>Jim Epp</td>\n      <td>2999.950</td>\n      <td>1439.9760</td>\n    </tr>\n    <tr>\n      <th>7325</th>\n      <td>7326</td>\n      <td>2024-03-31</td>\n      <td>Daniel Byrd</td>\n      <td>671.930</td>\n      <td>188.1404</td>\n    </tr>\n    <tr>\n      <th>7326</th>\n      <td>7327</td>\n      <td>2024-03-31</td>\n      <td>Denny Ordway</td>\n      <td>84.950</td>\n      <td>22.0870</td>\n    </tr>\n    <tr>\n      <th>7327</th>\n      <td>7328</td>\n      <td>2024-03-31</td>\n      <td>Chad McGuire</td>\n      <td>677.580</td>\n      <td>176.1708</td>\n    </tr>\n  </tbody>\n</table>\n<p>7328 rows × 5 columns</p>\n</div>"
     },
     "execution_count": 4,
     "metadata": {},
     "output_type": "execute_result"
    }
   ],
   "source": [
    "import pandas as pd\n",
    "df = pd.read_csv(\"../data/SuperStoreSimple.csv\")\n",
    "df"
   ]
  },
  {
   "cell_type": "code",
   "outputs": [
    {
     "data": {
      "text/plain": "      Row ID  Order Date  Customer Name     Sales    Profit\n0          1  2021-01-03  Darren Powers  0.000702  0.440370\n1          2  2021-01-04  Phillina Ober  0.000132  0.439634\n2          3  2021-01-04  Phillina Ober  0.000496  0.440285\n3          4  2021-01-04  Phillina Ober  0.012023  0.435682\n4          5  2021-01-05     Mick Brown  0.000838  0.440325\n...      ...         ...            ...       ...       ...\n7323    7324  2024-03-31  Henry Goldwyn  0.001287  0.440534\n7324    7325  2024-03-31        Jim Epp  0.132494  0.535999\n7325    7326  2024-03-31    Daniel Byrd  0.029657  0.452543\n7326    7327  2024-03-31   Denny Ordway  0.003728  0.441472\n7327    7328  2024-03-31   Chad McGuire  0.029907  0.451745\n\n[7328 rows x 5 columns]",
      "text/html": "<div>\n<style scoped>\n    .dataframe tbody tr th:only-of-type {\n        vertical-align: middle;\n    }\n\n    .dataframe tbody tr th {\n        vertical-align: top;\n    }\n\n    .dataframe thead th {\n        text-align: right;\n    }\n</style>\n<table border=\"1\" class=\"dataframe\">\n  <thead>\n    <tr style=\"text-align: right;\">\n      <th></th>\n      <th>Row ID</th>\n      <th>Order Date</th>\n      <th>Customer Name</th>\n      <th>Sales</th>\n      <th>Profit</th>\n    </tr>\n  </thead>\n  <tbody>\n    <tr>\n      <th>0</th>\n      <td>1</td>\n      <td>2021-01-03</td>\n      <td>Darren Powers</td>\n      <td>0.000702</td>\n      <td>0.440370</td>\n    </tr>\n    <tr>\n      <th>1</th>\n      <td>2</td>\n      <td>2021-01-04</td>\n      <td>Phillina Ober</td>\n      <td>0.000132</td>\n      <td>0.439634</td>\n    </tr>\n    <tr>\n      <th>2</th>\n      <td>3</td>\n      <td>2021-01-04</td>\n      <td>Phillina Ober</td>\n      <td>0.000496</td>\n      <td>0.440285</td>\n    </tr>\n    <tr>\n      <th>3</th>\n      <td>4</td>\n      <td>2021-01-04</td>\n      <td>Phillina Ober</td>\n      <td>0.012023</td>\n      <td>0.435682</td>\n    </tr>\n    <tr>\n      <th>4</th>\n      <td>5</td>\n      <td>2021-01-05</td>\n      <td>Mick Brown</td>\n      <td>0.000838</td>\n      <td>0.440325</td>\n    </tr>\n    <tr>\n      <th>...</th>\n      <td>...</td>\n      <td>...</td>\n      <td>...</td>\n      <td>...</td>\n      <td>...</td>\n    </tr>\n    <tr>\n      <th>7323</th>\n      <td>7324</td>\n      <td>2024-03-31</td>\n      <td>Henry Goldwyn</td>\n      <td>0.001287</td>\n      <td>0.440534</td>\n    </tr>\n    <tr>\n      <th>7324</th>\n      <td>7325</td>\n      <td>2024-03-31</td>\n      <td>Jim Epp</td>\n      <td>0.132494</td>\n      <td>0.535999</td>\n    </tr>\n    <tr>\n      <th>7325</th>\n      <td>7326</td>\n      <td>2024-03-31</td>\n      <td>Daniel Byrd</td>\n      <td>0.029657</td>\n      <td>0.452543</td>\n    </tr>\n    <tr>\n      <th>7326</th>\n      <td>7327</td>\n      <td>2024-03-31</td>\n      <td>Denny Ordway</td>\n      <td>0.003728</td>\n      <td>0.441472</td>\n    </tr>\n    <tr>\n      <th>7327</th>\n      <td>7328</td>\n      <td>2024-03-31</td>\n      <td>Chad McGuire</td>\n      <td>0.029907</td>\n      <td>0.451745</td>\n    </tr>\n  </tbody>\n</table>\n<p>7328 rows × 5 columns</p>\n</div>"
     },
     "execution_count": 5,
     "metadata": {},
     "output_type": "execute_result"
    }
   ],
   "source": [
    "from sklearn.preprocessing import MinMaxScaler\n",
    "\n",
    "scaler = MinMaxScaler()\n",
    "columns= ['Sales', 'Profit']\n",
    "df[columns] = scaler.fit_transform(df[columns])\n",
    "df"
   ],
   "metadata": {
    "collapsed": false,
    "ExecuteTime": {
     "end_time": "2024-03-19T09:55:12.042728Z",
     "start_time": "2024-03-19T09:55:12.032665Z"
    }
   },
   "id": "417a48ede2b99b95",
   "execution_count": 5
  },
  {
   "cell_type": "code",
   "outputs": [
    {
     "name": "stderr",
     "output_type": "stream",
     "text": [
      "C:\\Dev\\Miniconda3\\Lib\\site-packages\\sklearn\\cluster\\_kmeans.py:870: FutureWarning: The default value of `n_init` will change from 10 to 'auto' in 1.4. Set the value of `n_init` explicitly to suppress the warning\n",
      "  warnings.warn(\n"
     ]
    },
    {
     "data": {
      "text/plain": "      Row ID  Order Date  Customer Name     Sales    Profit  Cluster\n0          1  2021-01-03  Darren Powers  0.000702  0.440370        3\n1          2  2021-01-04  Phillina Ober  0.000132  0.439634        3\n2          3  2021-01-04  Phillina Ober  0.000496  0.440285        3\n3          4  2021-01-04  Phillina Ober  0.012023  0.435682        3\n4          5  2021-01-05     Mick Brown  0.000838  0.440325        3\n...      ...         ...            ...       ...       ...      ...\n7323    7324  2024-03-31  Henry Goldwyn  0.001287  0.440534        3\n7324    7325  2024-03-31        Jim Epp  0.132494  0.535999        2\n7325    7326  2024-03-31    Daniel Byrd  0.029657  0.452543        0\n7326    7327  2024-03-31   Denny Ordway  0.003728  0.441472        3\n7327    7328  2024-03-31   Chad McGuire  0.029907  0.451745        0\n\n[7328 rows x 6 columns]",
      "text/html": "<div>\n<style scoped>\n    .dataframe tbody tr th:only-of-type {\n        vertical-align: middle;\n    }\n\n    .dataframe tbody tr th {\n        vertical-align: top;\n    }\n\n    .dataframe thead th {\n        text-align: right;\n    }\n</style>\n<table border=\"1\" class=\"dataframe\">\n  <thead>\n    <tr style=\"text-align: right;\">\n      <th></th>\n      <th>Row ID</th>\n      <th>Order Date</th>\n      <th>Customer Name</th>\n      <th>Sales</th>\n      <th>Profit</th>\n      <th>Cluster</th>\n    </tr>\n  </thead>\n  <tbody>\n    <tr>\n      <th>0</th>\n      <td>1</td>\n      <td>2021-01-03</td>\n      <td>Darren Powers</td>\n      <td>0.000702</td>\n      <td>0.440370</td>\n      <td>3</td>\n    </tr>\n    <tr>\n      <th>1</th>\n      <td>2</td>\n      <td>2021-01-04</td>\n      <td>Phillina Ober</td>\n      <td>0.000132</td>\n      <td>0.439634</td>\n      <td>3</td>\n    </tr>\n    <tr>\n      <th>2</th>\n      <td>3</td>\n      <td>2021-01-04</td>\n      <td>Phillina Ober</td>\n      <td>0.000496</td>\n      <td>0.440285</td>\n      <td>3</td>\n    </tr>\n    <tr>\n      <th>3</th>\n      <td>4</td>\n      <td>2021-01-04</td>\n      <td>Phillina Ober</td>\n      <td>0.012023</td>\n      <td>0.435682</td>\n      <td>3</td>\n    </tr>\n    <tr>\n      <th>4</th>\n      <td>5</td>\n      <td>2021-01-05</td>\n      <td>Mick Brown</td>\n      <td>0.000838</td>\n      <td>0.440325</td>\n      <td>3</td>\n    </tr>\n    <tr>\n      <th>...</th>\n      <td>...</td>\n      <td>...</td>\n      <td>...</td>\n      <td>...</td>\n      <td>...</td>\n      <td>...</td>\n    </tr>\n    <tr>\n      <th>7323</th>\n      <td>7324</td>\n      <td>2024-03-31</td>\n      <td>Henry Goldwyn</td>\n      <td>0.001287</td>\n      <td>0.440534</td>\n      <td>3</td>\n    </tr>\n    <tr>\n      <th>7324</th>\n      <td>7325</td>\n      <td>2024-03-31</td>\n      <td>Jim Epp</td>\n      <td>0.132494</td>\n      <td>0.535999</td>\n      <td>2</td>\n    </tr>\n    <tr>\n      <th>7325</th>\n      <td>7326</td>\n      <td>2024-03-31</td>\n      <td>Daniel Byrd</td>\n      <td>0.029657</td>\n      <td>0.452543</td>\n      <td>0</td>\n    </tr>\n    <tr>\n      <th>7326</th>\n      <td>7327</td>\n      <td>2024-03-31</td>\n      <td>Denny Ordway</td>\n      <td>0.003728</td>\n      <td>0.441472</td>\n      <td>3</td>\n    </tr>\n    <tr>\n      <th>7327</th>\n      <td>7328</td>\n      <td>2024-03-31</td>\n      <td>Chad McGuire</td>\n      <td>0.029907</td>\n      <td>0.451745</td>\n      <td>0</td>\n    </tr>\n  </tbody>\n</table>\n<p>7328 rows × 6 columns</p>\n</div>"
     },
     "execution_count": 3,
     "metadata": {},
     "output_type": "execute_result"
    }
   ],
   "source": [
    "from sklearn.cluster import KMeans\n",
    "kmeans = KMeans(n_clusters=5, random_state=42)\n",
    "features = df[['Sales', 'Profit']]\n",
    "kmeans.fit(features)\n",
    "df['Cluster'] = kmeans.labels_\n",
    "df"
   ],
   "metadata": {
    "collapsed": false,
    "ExecuteTime": {
     "end_time": "2024-03-19T09:54:23.447729Z",
     "start_time": "2024-03-19T09:54:22.973525Z"
    }
   },
   "id": "2a1bb13edf2588f7",
   "execution_count": 3
  }
 ],
 "metadata": {
  "kernelspec": {
   "display_name": "Python 3",
   "language": "python",
   "name": "python3"
  },
  "language_info": {
   "codemirror_mode": {
    "name": "ipython",
    "version": 2
   },
   "file_extension": ".py",
   "mimetype": "text/x-python",
   "name": "python",
   "nbconvert_exporter": "python",
   "pygments_lexer": "ipython2",
   "version": "2.7.6"
  }
 },
 "nbformat": 4,
 "nbformat_minor": 5
}
