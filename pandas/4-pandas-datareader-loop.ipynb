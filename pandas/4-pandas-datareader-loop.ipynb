{
 "cells": [
  {
   "cell_type": "code",
   "execution_count": 1,
   "id": "initial_id",
   "metadata": {
    "collapsed": true,
    "ExecuteTime": {
     "end_time": "2024-03-19T09:27:26.942446Z",
     "start_time": "2024-03-19T09:27:26.329503Z"
    }
   },
   "outputs": [],
   "source": [
    "import pandas as pd\n",
    "import pandas_datareader.data as pdr\n",
    "import yfinance as yf\n",
    "yf.pdr_override()"
   ]
  },
  {
   "cell_type": "code",
   "outputs": [
    {
     "name": "stderr",
     "output_type": "stream",
     "text": [
      "[*********************100%%**********************]  1 of 1 completed\n",
      "[*********************100%%**********************]  1 of 1 completed\n",
      "[*********************100%%**********************]  1 of 1 completed\n"
     ]
    },
    {
     "data": {
      "text/plain": "    Ticker       Date       Close\n0     AAPL 2023-01-03  125.070000\n1     AAPL 2023-01-04  126.360001\n2     AAPL 2023-01-05  125.019997\n3     AAPL 2023-01-06  129.619995\n4     AAPL 2023-01-09  130.149994\n..     ...        ...         ...\n296    CRM 2024-03-08  305.279999\n297    CRM 2024-03-11  306.000000\n298    CRM 2024-03-12  306.619995\n299    CRM 2024-03-13  304.679993\n300    CRM 2024-03-14  303.320007\n\n[903 rows x 3 columns]",
      "text/html": "<div>\n<style scoped>\n    .dataframe tbody tr th:only-of-type {\n        vertical-align: middle;\n    }\n\n    .dataframe tbody tr th {\n        vertical-align: top;\n    }\n\n    .dataframe thead th {\n        text-align: right;\n    }\n</style>\n<table border=\"1\" class=\"dataframe\">\n  <thead>\n    <tr style=\"text-align: right;\">\n      <th></th>\n      <th>Ticker</th>\n      <th>Date</th>\n      <th>Close</th>\n    </tr>\n  </thead>\n  <tbody>\n    <tr>\n      <th>0</th>\n      <td>AAPL</td>\n      <td>2023-01-03</td>\n      <td>125.070000</td>\n    </tr>\n    <tr>\n      <th>1</th>\n      <td>AAPL</td>\n      <td>2023-01-04</td>\n      <td>126.360001</td>\n    </tr>\n    <tr>\n      <th>2</th>\n      <td>AAPL</td>\n      <td>2023-01-05</td>\n      <td>125.019997</td>\n    </tr>\n    <tr>\n      <th>3</th>\n      <td>AAPL</td>\n      <td>2023-01-06</td>\n      <td>129.619995</td>\n    </tr>\n    <tr>\n      <th>4</th>\n      <td>AAPL</td>\n      <td>2023-01-09</td>\n      <td>130.149994</td>\n    </tr>\n    <tr>\n      <th>...</th>\n      <td>...</td>\n      <td>...</td>\n      <td>...</td>\n    </tr>\n    <tr>\n      <th>296</th>\n      <td>CRM</td>\n      <td>2024-03-08</td>\n      <td>305.279999</td>\n    </tr>\n    <tr>\n      <th>297</th>\n      <td>CRM</td>\n      <td>2024-03-11</td>\n      <td>306.000000</td>\n    </tr>\n    <tr>\n      <th>298</th>\n      <td>CRM</td>\n      <td>2024-03-12</td>\n      <td>306.619995</td>\n    </tr>\n    <tr>\n      <th>299</th>\n      <td>CRM</td>\n      <td>2024-03-13</td>\n      <td>304.679993</td>\n    </tr>\n    <tr>\n      <th>300</th>\n      <td>CRM</td>\n      <td>2024-03-14</td>\n      <td>303.320007</td>\n    </tr>\n  </tbody>\n</table>\n<p>903 rows × 3 columns</p>\n</div>"
     },
     "execution_count": 2,
     "metadata": {},
     "output_type": "execute_result"
    }
   ],
   "source": [
    "tickers = ['AAPL', 'GOOG', 'CRM']\n",
    "\n",
    "df = pd.DataFrame()\n",
    "\n",
    "for ticker in tickers:\n",
    "    df_temp = pdr.get_data_yahoo(ticker, start='2023-01-01', end='2024-03-15').reset_index()\n",
    "    df_temp['Ticker'] = ticker\n",
    "    df_temp = df_temp[['Ticker', 'Date', 'Close']]\n",
    "    df = df._append(df_temp)\n",
    "    \n",
    "df    "
   ],
   "metadata": {
    "collapsed": false,
    "ExecuteTime": {
     "end_time": "2024-03-19T09:27:29.619233Z",
     "start_time": "2024-03-19T09:27:26.943447Z"
    }
   },
   "id": "d6bd4a8c1ce656c7",
   "execution_count": 2
  }
 ],
 "metadata": {
  "kernelspec": {
   "display_name": "Python 3",
   "language": "python",
   "name": "python3"
  },
  "language_info": {
   "codemirror_mode": {
    "name": "ipython",
    "version": 2
   },
   "file_extension": ".py",
   "mimetype": "text/x-python",
   "name": "python",
   "nbconvert_exporter": "python",
   "pygments_lexer": "ipython2",
   "version": "2.7.6"
  }
 },
 "nbformat": 4,
 "nbformat_minor": 5
}
